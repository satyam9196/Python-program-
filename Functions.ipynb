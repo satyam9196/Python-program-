{
  "nbformat": 4,
  "nbformat_minor": 0,
  "metadata": {
    "colab": {
      "provenance": []
    },
    "kernelspec": {
      "name": "python3",
      "display_name": "Python 3"
    },
    "language_info": {
      "name": "python"
    }
  },
  "cells": [
    {
      "cell_type": "code",
      "source": [
        "\n",
        "#WAP to find even and odd numbers from a list.\n",
        "\n",
        "even=[]\n",
        "odd=[]\n",
        "for i in range(6):\n",
        "    n = int(input('Enter any number: '))\n",
        "    if n%2 == 0:\n",
        "        even.append(n)\n",
        "    else:\n",
        "        odd.append(n)\n",
        "\n",
        "d = {}\n",
        "d['Even']=even\n",
        "d['Odd']=odd\n",
        "print(d)"
      ],
      "metadata": {
        "colab": {
          "base_uri": "https://localhost:8080/"
        },
        "id": "r73WaNiPSxXS",
        "outputId": "851386ae-e83d-48cf-8474-098ec373ef76"
      },
      "execution_count": null,
      "outputs": [
        {
          "output_type": "stream",
          "name": "stdout",
          "text": [
            "Enter any number: 3\n",
            "Enter any number: 45\n",
            "Enter any number: 67\n",
            "Enter any number: 89\n",
            "Enter any number: 64\n",
            "Enter any number: 27\n",
            "{'Even': [64], 'Odd': [3, 45, 67, 89, 27]}\n"
          ]
        }
      ]
    },
    {
      "cell_type": "code",
      "source": [
        "# Nested Function"
      ],
      "metadata": {
        "id": "guObi7hwTBNt"
      },
      "execution_count": null,
      "outputs": []
    },
    {
      "cell_type": "code",
      "source": [
        "def f1():\n",
        "   s='Python is case sensitive'\n",
        "   def f2():\n",
        "     print(s)\n",
        "   f2()\n",
        "\n",
        "f1()"
      ],
      "metadata": {
        "colab": {
          "base_uri": "https://localhost:8080/"
        },
        "id": "kuNak2J1THvX",
        "outputId": "7476dde5-f6f4-4e77-d405-691dfe3959c5"
      },
      "execution_count": null,
      "outputs": [
        {
          "output_type": "stream",
          "name": "stdout",
          "text": [
            "Python is case sensitive\n"
          ]
        }
      ]
    },
    {
      "cell_type": "code",
      "source": [
        "#Recursive Function(Recursion)\n",
        "#It means that a function calls itself. This has the benefit of meaning that you can loop through data to reach a result."
      ],
      "metadata": {
        "id": "9Sqdgj6VTJMl"
      },
      "execution_count": null,
      "outputs": []
    },
    {
      "cell_type": "code",
      "source": [
        "# Factorial Number Recursive Function\n",
        "\n",
        "def fact(n):\n",
        "  if n==0:\n",
        "    return 1\n",
        "  else:\n",
        "    return n*fact(n-1)\n",
        "fact(4)"
      ],
      "metadata": {
        "colab": {
          "base_uri": "https://localhost:8080/"
        },
        "id": "Li6NNWj3TTeZ",
        "outputId": "83969204-b3b2-4f65-da91-7830034db75b"
      },
      "execution_count": null,
      "outputs": [
        {
          "output_type": "execute_result",
          "data": {
            "text/plain": [
              "24"
            ]
          },
          "metadata": {},
          "execution_count": 31
        }
      ]
    },
    {
      "cell_type": "code",
      "source": [
        "# Fibonacci Number using recursion\n",
        "\n",
        "def fibonacci(n):\n",
        "  if n < 0:\n",
        "    raise ValueError(\"Input 0 or greater only!\")\n",
        "  fiblist = [0, 1]\n",
        "  for i in range(2,n+1):\n",
        "    fiblist.append(fiblist[i-1] + fiblist[i-2])\n",
        "  return fiblist[n]\n",
        "\n",
        "fibonacci(10)"
      ],
      "metadata": {
        "colab": {
          "base_uri": "https://localhost:8080/"
        },
        "id": "YPBRjFjnTZQz",
        "outputId": "855f2e04-07fd-46a6-e1ed-49d69e4dc0e1"
      },
      "execution_count": null,
      "outputs": [
        {
          "output_type": "execute_result",
          "data": {
            "text/plain": [
              "55"
            ]
          },
          "metadata": {},
          "execution_count": 32
        }
      ]
    },
    {
      "cell_type": "code",
      "execution_count": null,
      "metadata": {
        "id": "JriR_2i1In_w"
      },
      "outputs": [],
      "source": [
        "#A function is a block of code which only runs when it is called.\n",
        "#Functions help in organizing code,reusing code and improving readability.\n",
        "#You can pass data, known as parameters, into a function.\n",
        "#A function can return data as a result."
      ]
    },
    {
      "cell_type": "code",
      "source": [
        "# a function is defined using the def keyword:\n",
        "def my_function():\n",
        "\n",
        "      print(\"Hello from a function\")"
      ],
      "metadata": {
        "id": "4UFtfMocJHP_"
      },
      "execution_count": null,
      "outputs": []
    },
    {
      "cell_type": "code",
      "source": [
        "#calling Function\n",
        "my_function()"
      ],
      "metadata": {
        "colab": {
          "base_uri": "https://localhost:8080/"
        },
        "id": "Nz-VD-anJJmi",
        "outputId": "1fa5e15a-4d3a-4483-f433-9492897d28a5"
      },
      "execution_count": null,
      "outputs": [
        {
          "output_type": "stream",
          "name": "stdout",
          "text": [
            "Hello from a function\n"
          ]
        }
      ]
    },
    {
      "cell_type": "code",
      "source": [
        "#Arguments\n",
        "#Information can be passed into functions as arguments.\n",
        "#Arguments are specified after the function name, inside the parentheses.\n",
        "def my_function(fname):\n",
        "  print(fname + \" Trump\")\n",
        "\n",
        "my_function(\"Donald\")\n",
        "my_function(\"ÄBC\")"
      ],
      "metadata": {
        "colab": {
          "base_uri": "https://localhost:8080/"
        },
        "id": "pIsovQ-bJLmw",
        "outputId": "0cb62ce4-7304-4ca5-99ba-672fa0c497e2"
      },
      "execution_count": null,
      "outputs": [
        {
          "output_type": "stream",
          "name": "stdout",
          "text": [
            "Donald Trump\n",
            "ÄBC Trump\n"
          ]
        }
      ]
    },
    {
      "cell_type": "code",
      "source": [
        "my_function(\"Melliania\")"
      ],
      "metadata": {
        "colab": {
          "base_uri": "https://localhost:8080/"
        },
        "id": "enElmTmYJPM7",
        "outputId": "185380c0-11e2-4574-d39d-656e7243bd73"
      },
      "execution_count": null,
      "outputs": [
        {
          "output_type": "stream",
          "name": "stdout",
          "text": [
            "Melliania Trump\n"
          ]
        }
      ]
    },
    {
      "cell_type": "code",
      "source": [
        "#Parameters or Arguments\n",
        "# A parameter is the variable listed inside the parentheses in the function definition.\n",
        "\n",
        "# An argument is the value that is sent to the function when it is called."
      ],
      "metadata": {
        "id": "gGjByxjmJRjS"
      },
      "execution_count": null,
      "outputs": []
    },
    {
      "cell_type": "code",
      "source": [
        "#Syntax with return statement:\n",
        "def function_name(parameters):\n",
        "    #Function body\n",
        "   return expression"
      ],
      "metadata": {
        "id": "DuF6FkHlJU53"
      },
      "execution_count": null,
      "outputs": []
    },
    {
      "cell_type": "code",
      "source": [
        "def even_odd(num):\n",
        "     if num%2==0:\n",
        "      print(\"the number is even\")\n",
        "     else:\n",
        "       print(\"the number is odd\")"
      ],
      "metadata": {
        "id": "27Y_-BoJJXdg"
      },
      "execution_count": null,
      "outputs": []
    },
    {
      "cell_type": "code",
      "source": [
        "#call this function\n",
        "even_odd(24)"
      ],
      "metadata": {
        "colab": {
          "base_uri": "https://localhost:8080/"
        },
        "id": "chL1j5X7JZsg",
        "outputId": "179491b9-817d-4023-c40c-6901cd5faad3"
      },
      "execution_count": null,
      "outputs": [
        {
          "output_type": "stream",
          "name": "stdout",
          "text": [
            "the number is even\n"
          ]
        }
      ]
    },
    {
      "cell_type": "code",
      "source": [
        "# Function with multiple parameters\n",
        "def add(a,b):\n",
        "    return a+b\n",
        "\n",
        "add(2,3)"
      ],
      "metadata": {
        "colab": {
          "base_uri": "https://localhost:8080/"
        },
        "id": "sxdLWyc3JmTZ",
        "outputId": "af5146ea-10ac-49c5-ea7f-fed7372d5a5a"
      },
      "execution_count": null,
      "outputs": [
        {
          "output_type": "execute_result",
          "data": {
            "text/plain": [
              "5"
            ]
          },
          "metadata": {},
          "execution_count": 11
        }
      ]
    },
    {
      "cell_type": "code",
      "source": [
        "add(4,5)"
      ],
      "metadata": {
        "colab": {
          "base_uri": "https://localhost:8080/"
        },
        "id": "rwKIEbDqJqyx",
        "outputId": "f3189763-d682-4dc9-a35e-a0987f6e07e6"
      },
      "execution_count": null,
      "outputs": [
        {
          "output_type": "execute_result",
          "data": {
            "text/plain": [
              "9"
            ]
          },
          "metadata": {},
          "execution_count": 12
        }
      ]
    },
    {
      "cell_type": "code",
      "source": [
        "# Function can return multiple values\n",
        "def add(a,b):\n",
        "    return a+b,a\n",
        "\n",
        "add(2,4)"
      ],
      "metadata": {
        "colab": {
          "base_uri": "https://localhost:8080/"
        },
        "id": "i5PRAzNKJtGm",
        "outputId": "5affce24-7d67-47f8-c484-4620a305de40"
      },
      "execution_count": null,
      "outputs": [
        {
          "output_type": "execute_result",
          "data": {
            "text/plain": [
              "(6, 2)"
            ]
          },
          "metadata": {},
          "execution_count": 13
        }
      ]
    },
    {
      "cell_type": "code",
      "source": [
        "# Write a function to swap two numbers without using third variable.\n",
        "def swap(a,b):\n",
        "    a,b=b,a\n",
        "    print(a)\n",
        "    print(b)"
      ],
      "metadata": {
        "id": "vGZ1gIMnJv8W"
      },
      "execution_count": null,
      "outputs": []
    },
    {
      "cell_type": "code",
      "source": [
        "swap(2,4)"
      ],
      "metadata": {
        "colab": {
          "base_uri": "https://localhost:8080/"
        },
        "id": "291ywTg8JyjW",
        "outputId": "34ceed87-151a-49e2-b62b-b250244f65e5"
      },
      "execution_count": null,
      "outputs": [
        {
          "output_type": "stream",
          "name": "stdout",
          "text": [
            "4\n",
            "2\n"
          ]
        }
      ]
    },
    {
      "cell_type": "code",
      "source": [
        "# Write a function to swap two numbers using third variable.\n",
        "def swap(a,b):\n",
        "   temp=a\n",
        "   a=b\n",
        "   b=temp\n",
        "   print(a)\n",
        "   print(b)"
      ],
      "metadata": {
        "id": "3Gl0FL2JJ0eQ"
      },
      "execution_count": null,
      "outputs": []
    },
    {
      "cell_type": "code",
      "source": [
        "swap(3,4)"
      ],
      "metadata": {
        "colab": {
          "base_uri": "https://localhost:8080/"
        },
        "id": "hH68eSJRJ-rb",
        "outputId": "5c480a2e-2df1-44c5-e0a6-5dbfda2cb4d9"
      },
      "execution_count": null,
      "outputs": [
        {
          "output_type": "stream",
          "name": "stdout",
          "text": [
            "4\n",
            "3\n"
          ]
        }
      ]
    },
    {
      "cell_type": "code",
      "source": [],
      "metadata": {
        "id": "57rkRzaVKDfq"
      },
      "execution_count": null,
      "outputs": []
    }
  ]
}