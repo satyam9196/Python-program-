{
  "nbformat": 4,
  "nbformat_minor": 0,
  "metadata": {
    "colab": {
      "provenance": []
    },
    "kernelspec": {
      "name": "python3",
      "display_name": "Python 3"
    },
    "language_info": {
      "name": "python"
    }
  },
  "cells": [
    {
      "cell_type": "code",
      "execution_count": 1,
      "metadata": {
        "colab": {
          "base_uri": "https://localhost:8080/"
        },
        "id": "3pz4_uEdm9tM",
        "outputId": "d89088b2-a174-498f-8146-e7bc9518a5af"
      },
      "outputs": [
        {
          "output_type": "stream",
          "name": "stdout",
          "text": [
            "('apple', 'banana', 'cherry')\n"
          ]
        }
      ],
      "source": [
        "mytuple = (\"apple\", \"banana\", \"cherry\")\n",
        "print(mytuple)"
      ]
    },
    {
      "cell_type": "code",
      "source": [
        "#read from note book\n",
        "#theory till allow duplicate"
      ],
      "metadata": {
        "id": "BuwXI82ctFK6"
      },
      "execution_count": 2,
      "outputs": []
    },
    {
      "cell_type": "code",
      "source": [
        "#Tuple allow duplicate value\n",
        "Tuple = (\"apple\",\"mango\",\"kiwi\",\"cherry\",\"orange\",\"apple\")\n",
        "print(Tuple)"
      ],
      "metadata": {
        "colab": {
          "base_uri": "https://localhost:8080/"
        },
        "id": "CwMmZNzTtZV1",
        "outputId": "2a55570a-6760-4470-ddf0-b4cbe2890ba4"
      },
      "execution_count": 3,
      "outputs": [
        {
          "output_type": "stream",
          "name": "stdout",
          "text": [
            "('apple', 'mango', 'kiwi', 'cherry', 'orange', 'apple')\n"
          ]
        }
      ]
    },
    {
      "cell_type": "code",
      "source": [
        "#Tuple length\n",
        "#To determine how many items a tuple has,use the len().function:\n",
        "Tuple = (\"Satyam\",\"Sumit\",\"Sarthak\",\"Shivam\")\n",
        "print(len(Tuple))\n",
        "\n",
        "Tuple = (\"Satyam\",\"Shivam\",)\n",
        "print(len(Tuple))"
      ],
      "metadata": {
        "colab": {
          "base_uri": "https://localhost:8080/"
        },
        "id": "nUiTrvvKt2ws",
        "outputId": "73d17c30-4b3c-48a4-beb0-ff3228f2d6eb"
      },
      "execution_count": 5,
      "outputs": [
        {
          "output_type": "stream",
          "name": "stdout",
          "text": [
            "4\n",
            "2\n"
          ]
        }
      ]
    },
    {
      "cell_type": "code",
      "source": [
        "#one item tuple remember the comma\n",
        "Tuple = (\"apple\",\"kiwi\")\n",
        "print(type(Tuple))\n",
        "\n",
        "Tuple = (\"apple\",\"kiwi\")\n",
        "print (type(Tuple))"
      ],
      "metadata": {
        "colab": {
          "base_uri": "https://localhost:8080/"
        },
        "id": "4FhE2iTvuzNb",
        "outputId": "7ada6ef3-8b23-4fa7-a8ae-b45c3e1716c9"
      },
      "execution_count": 6,
      "outputs": [
        {
          "output_type": "stream",
          "name": "stdout",
          "text": [
            "<class 'tuple'>\n",
            "<class 'tuple'>\n"
          ]
        }
      ]
    },
    {
      "cell_type": "code",
      "source": [
        "Tuple = (\"apple\")\n",
        "print(type(Tuple))"
      ],
      "metadata": {
        "colab": {
          "base_uri": "https://localhost:8080/"
        },
        "id": "GWLwzMAxwE1l",
        "outputId": "20bca397-c9cf-46c1-8e91-49072fac45c2"
      },
      "execution_count": 7,
      "outputs": [
        {
          "output_type": "stream",
          "name": "stdout",
          "text": [
            "<class 'str'>\n"
          ]
        }
      ]
    },
    {
      "cell_type": "code",
      "source": [
        "#Tuple item data types\n",
        "#Tuple item can be of any data type\n",
        "\n",
        "#Example\n",
        "#string, int and boolen data types:\n",
        "tuple1 = (\"satyam\",\"cherry\",\"kiwi\")\n",
        "tuple2 = (1,2,3,4,5,6)\n",
        "tuple3 = (True,False)\n",
        "print(tuple1)\n",
        "print(tuple2)\n",
        "print(tuple3)"
      ],
      "metadata": {
        "colab": {
          "base_uri": "https://localhost:8080/"
        },
        "id": "66INB4WVwVPA",
        "outputId": "55bfb4e4-f303-4c7f-c86f-71cbe9d66d72"
      },
      "execution_count": 8,
      "outputs": [
        {
          "output_type": "stream",
          "name": "stdout",
          "text": [
            "('satyam', 'cherry', 'kiwi')\n",
            "(1, 2, 3, 4, 5, 6)\n",
            "(True, False)\n"
          ]
        }
      ]
    },
    {
      "cell_type": "code",
      "source": [
        "#A tuple can contain different data types:\n",
        "#A tuple with strings, integers and boolean values:\n",
        "\n",
        "tuple1 = (\"abc\",34,True,50,\"male\")\n",
        "print(tuple1)"
      ],
      "metadata": {
        "colab": {
          "base_uri": "https://localhost:8080/"
        },
        "id": "kNGao-zcxkvS",
        "outputId": "cad509af-a771-4a2c-917b-65d0adc97585"
      },
      "execution_count": 9,
      "outputs": [
        {
          "output_type": "stream",
          "name": "stdout",
          "text": [
            "('abc', 34, True, 50, 'male')\n"
          ]
        }
      ]
    },
    {
      "cell_type": "code",
      "source": [
        "#type()\n",
        "#what is the data type of a tuple?\n",
        "\n",
        "tuple1 = (\"apple\",\"banana\",\"cherry\")\n",
        "print(type(tuple1))"
      ],
      "metadata": {
        "colab": {
          "base_uri": "https://localhost:8080/"
        },
        "id": "lJcx1RzMyRlH",
        "outputId": "0f5d9fe3-0faf-4241-8b96-2b3267fda983"
      },
      "execution_count": 10,
      "outputs": [
        {
          "output_type": "stream",
          "name": "stdout",
          "text": [
            "<class 'tuple'>\n"
          ]
        }
      ]
    },
    {
      "cell_type": "code",
      "source": [
        "#Access Tuple items\n",
        "Thistuple = (\"apple\",\"banana\",\"kiwi\")\n",
        "print(Thistuple[1])\n",
        "\n",
        "Tuple = (\"shivam\",\"Aniket\",\"saksham\")\n",
        "print(Tuple[0])"
      ],
      "metadata": {
        "colab": {
          "base_uri": "https://localhost:8080/"
        },
        "id": "QzBaPaNkyw7I",
        "outputId": "a11db0e9-c1c4-4489-8efd-c9b2e0772836"
      },
      "execution_count": 12,
      "outputs": [
        {
          "output_type": "stream",
          "name": "stdout",
          "text": [
            "banana\n",
            "shivam\n"
          ]
        }
      ]
    },
    {
      "cell_type": "code",
      "source": [
        "#Note: The first item has index 0."
      ],
      "metadata": {
        "id": "dlmV52bOzn9w"
      },
      "execution_count": 13,
      "outputs": []
    },
    {
      "cell_type": "code",
      "source": [
        "#Negative Indexing\n",
        "#Print the last item of the tuple:\n",
        "\n",
        "Thistuple = (\"apple\",\"kiwi\",\"orange\",\"banana\")\n",
        "print(Thistuple[-1])"
      ],
      "metadata": {
        "colab": {
          "base_uri": "https://localhost:8080/"
        },
        "id": "C6xljS-mz7gH",
        "outputId": "47526f1f-96b0-4209-fa83-919a553fa817"
      },
      "execution_count": 14,
      "outputs": [
        {
          "output_type": "stream",
          "name": "stdout",
          "text": [
            "banana\n"
          ]
        }
      ]
    },
    {
      "cell_type": "code",
      "source": [
        "#Range of Indexes\n",
        "#Example\n",
        "#Return the third, fourth, and fifth item:\n",
        "\n",
        "Thistuple = (\"apple\",\"banana\",\"cherry\",\"orange\",\"kiwi\",\"melon\",\"mango\")\n",
        "print(Thistuple[2:5])"
      ],
      "metadata": {
        "colab": {
          "base_uri": "https://localhost:8080/"
        },
        "id": "AH1VXbOH0ona",
        "outputId": "db194889-c3ec-469d-a612-3bc6a52ba414"
      },
      "execution_count": 15,
      "outputs": [
        {
          "output_type": "stream",
          "name": "stdout",
          "text": [
            "('cherry', 'orange', 'kiwi')\n"
          ]
        }
      ]
    },
    {
      "cell_type": "code",
      "source": [
        "#Note: The search will start at index 2 (included) and end at index 5 (not included)."
      ],
      "metadata": {
        "id": "1SsmgrvS36Tm"
      },
      "execution_count": 16,
      "outputs": []
    },
    {
      "cell_type": "code",
      "source": [
        "#Example\n",
        "#This example return the items from the beginning to, but NOT included, \"kiwi\";\n",
        "\n",
        "Thistuple = (\"apple\",\"banana\",\"cherry\",\"orange\",\"kiwi\",\"melon\",\"mango\")\n",
        "print(Thistuple[:4])"
      ],
      "metadata": {
        "colab": {
          "base_uri": "https://localhost:8080/"
        },
        "id": "-Kom-Phs4Zzm",
        "outputId": "9fdaec40-bc0b-4ae4-ef5b-4629a37fecee"
      },
      "execution_count": 17,
      "outputs": [
        {
          "output_type": "stream",
          "name": "stdout",
          "text": [
            "('apple', 'banana', 'cherry', 'orange')\n"
          ]
        }
      ]
    },
    {
      "cell_type": "code",
      "source": [
        "#Example\n",
        "#This example returns the items from \"cherry\" and to the end:\n",
        "\n",
        "Thistuple = (\"apple\",\"banana\",\"cherry\",\"orange\",\"kiwi\",\"melon\",\"mango\")\n",
        "print(Thistuple[2:])"
      ],
      "metadata": {
        "colab": {
          "base_uri": "https://localhost:8080/"
        },
        "id": "JvwuLcbY7E2S",
        "outputId": "f95cfe22-3d95-4a45-eaa4-b9510102d7e9"
      },
      "execution_count": 20,
      "outputs": [
        {
          "output_type": "stream",
          "name": "stdout",
          "text": [
            "('cherry', 'orange', 'kiwi', 'melon', 'mango')\n"
          ]
        }
      ]
    },
    {
      "cell_type": "code",
      "source": [
        "#Range of Negative Indexes\n",
        "#Specify negative indexes if you want to start the search from the end of the tuple:\n",
        "\n",
        "#This example returns the items from index -4 (included) to index -1(excluded)\n",
        "Thistuple = (\"apple\",\"banana\",\"cherry\",\"orange\",\"kiwi\",\"melon\",\"mango\")\n",
        "print(Thistuple[-4:-1])"
      ],
      "metadata": {
        "colab": {
          "base_uri": "https://localhost:8080/"
        },
        "id": "rwP9R8Eo8d0J",
        "outputId": "8ff9ce8d-f161-45c2-b03d-3de6791a7bd7"
      },
      "execution_count": 3,
      "outputs": [
        {
          "output_type": "stream",
          "name": "stdout",
          "text": [
            "('orange', 'kiwi', 'melon')\n"
          ]
        }
      ]
    },
    {
      "cell_type": "code",
      "source": [
        "#Check if Item Exists\n",
        "#Check if \"apple\" is present in the tuple:\n",
        "Thistuple = (\"apple\",\"banana\",\"cherry\")\n",
        "if \"apple\" in Thistuple:\n",
        "  print(\"Yes, apple\")\n",
        "\n",
        "Tuple = (\"Satyam\",\"Aniket\",\"Sumit\")\n",
        "if \"sarthak\" in Tuple:\n",
        "  print(\"Yes\")"
      ],
      "metadata": {
        "colab": {
          "base_uri": "https://localhost:8080/"
        },
        "id": "ydtp1ZF-_VTB",
        "outputId": "e3baa224-efc3-44fc-d542-6d26f27b3aa4"
      },
      "execution_count": 4,
      "outputs": [
        {
          "output_type": "stream",
          "name": "stdout",
          "text": [
            "Yes, apple\n"
          ]
        }
      ]
    },
    {
      "cell_type": "code",
      "source": [
        "Thistuple = (\"apple\",\"banana\",\"cherry\")\n",
        "y = (\"orange\",)\n",
        "Thistuple += y\n",
        "\n",
        "print(Thistuple)"
      ],
      "metadata": {
        "colab": {
          "base_uri": "https://localhost:8080/"
        },
        "id": "pHBh3f9qA8Mv",
        "outputId": "3e50fbd2-7843-46af-ef97-8ed527c610cb"
      },
      "execution_count": 2,
      "outputs": [
        {
          "output_type": "stream",
          "name": "stdout",
          "text": [
            "('apple', 'banana', 'cherry', 'orange')\n"
          ]
        }
      ]
    },
    {
      "cell_type": "code",
      "source": [
        "#Remove items\n",
        "#Example\n",
        "#Convert the tuple into a list, remove \"apple\",and convert it back into a tuple:\n",
        "\n",
        "Thistuple = (\"apple\",\"banana\",\"cherry\")\n",
        "y1 = list(Thistuple)\n",
        "y1.remove(\"apple\")\n",
        "Thistuple = tuple(y1)\n",
        "print(Thistuple)"
      ],
      "metadata": {
        "colab": {
          "base_uri": "https://localhost:8080/"
        },
        "id": "5InEQGe1LVfW",
        "outputId": "89b9a30a-1bc3-4e6c-9540-12aad5db1930"
      },
      "execution_count": 3,
      "outputs": [
        {
          "output_type": "stream",
          "name": "stdout",
          "text": [
            "('banana', 'cherry')\n"
          ]
        }
      ]
    },
    {
      "cell_type": "code",
      "source": [
        "#Example\n",
        "#The del keyword can delete the tuple completely:\n",
        "\n",
        "#del Thistuple"
      ],
      "metadata": {
        "id": "-6_qMFQzMoGM"
      },
      "execution_count": 4,
      "outputs": []
    },
    {
      "cell_type": "code",
      "source": [
        "#What is packing ?\n",
        "#unpacking a Tuple\n",
        "#When we create a tuple, we normally assign values to it. This is called \"packing\" a tuple:\n",
        "\n",
        "#Packing a tuple:\n",
        "\n",
        "#fruits = (\"apple\",\"banana\",\"cherry\")\n",
        "\n",
        "#But, in Python, we are also allowed to extract the values back into variables.This is called \"unpacking\":"
      ],
      "metadata": {
        "id": "lJ9dt_UQNDLI"
      },
      "execution_count": 6,
      "outputs": []
    },
    {
      "cell_type": "code",
      "source": [
        "#Example\n",
        "#Unpacking a tuple:\n",
        "\n",
        "fruits = (\"apple\",\"banana\",\"cherry\")\n",
        "\n",
        "(green,yellow,red) = fruits\n",
        "print(green)\n",
        "print(yellow)\n",
        "print(red)"
      ],
      "metadata": {
        "colab": {
          "base_uri": "https://localhost:8080/"
        },
        "id": "DBfBmOxfNLl1",
        "outputId": "0939d9aa-91ab-4e02-b3e6-c8b360d4f11f"
      },
      "execution_count": 7,
      "outputs": [
        {
          "output_type": "stream",
          "name": "stdout",
          "text": [
            "apple\n",
            "banana\n",
            "cherry\n"
          ]
        }
      ]
    },
    {
      "cell_type": "code",
      "source": [
        "fruits = (\"apple\",\"banana\",\"cherry\",\"strawberry\",\"respberry\")\n",
        "\n",
        "(green, yellow, * red) = fruits"
      ],
      "metadata": {
        "id": "5S_rv2lWO2Ho"
      },
      "execution_count": 1,
      "outputs": []
    },
    {
      "cell_type": "code",
      "source": [
        "fruits = (\"apple\", \"mango\", \"papaya\", \"pineapple\", \"Kiwi\", \"cherry\")\n",
        "\n",
        "(green, *tropic, red) = fruits\n",
        "\n",
        "print(green)\n",
        "print(tropic)\n",
        "print(red)"
      ],
      "metadata": {
        "colab": {
          "base_uri": "https://localhost:8080/"
        },
        "id": "Pr5rL-7GPqbq",
        "outputId": "13978ef1-178a-4004-e30e-e80e0b2bacf3"
      },
      "execution_count": 2,
      "outputs": [
        {
          "output_type": "stream",
          "name": "stdout",
          "text": [
            "apple\n",
            "['mango', 'papaya', 'pineapple', 'Kiwi']\n",
            "cherry\n"
          ]
        }
      ]
    },
    {
      "cell_type": "code",
      "source": [
        "#Python - Loop Tuples\n",
        "#Loop Through a Tuple\n",
        "#You can loop through the tuple items by using a for loop.\n",
        "#Iterate through the items and print the values:\n",
        "\n",
        "Thistuple = (\"apple\", \"banana\", \"cherry\")\n",
        "for x in Thistuple:\n",
        "  print(x)\n",
        "\n",
        "  Tuple = (\"apple\")\n",
        "  for x in Tuple:\n",
        "    print(x)"
      ],
      "metadata": {
        "colab": {
          "base_uri": "https://localhost:8080/"
        },
        "id": "SALTGuWjoQAx",
        "outputId": "d00dc50f-d019-4f1b-f5e3-f66432a161e2"
      },
      "execution_count": 3,
      "outputs": [
        {
          "output_type": "stream",
          "name": "stdout",
          "text": [
            "apple\n",
            "a\n",
            "p\n",
            "p\n",
            "l\n",
            "e\n",
            "banana\n",
            "a\n",
            "p\n",
            "p\n",
            "l\n",
            "e\n",
            "cherry\n",
            "a\n",
            "p\n",
            "p\n",
            "l\n",
            "e\n"
          ]
        }
      ]
    },
    {
      "cell_type": "code",
      "source": [
        "#Loop Through the Index Numbers\n",
        "#You can also loop through the tuple items by referring to their index number.\n",
        "\n",
        "#Use the range() and len() functions to create a suitable iterable.\n",
        "#Print all items by referring to their index number:\n",
        "\n",
        "Thistuple = (\"apple\", \"banana\", \"cherry\")\n",
        "for u in range(len(Thistuple)):\n",
        "  print(Thistuple[u])\n",
        "\n"
      ],
      "metadata": {
        "colab": {
          "base_uri": "https://localhost:8080/"
        },
        "id": "Sf1V0CQBpXHN",
        "outputId": "429a3f23-951f-46e1-8d39-b8b8501b9b85"
      },
      "execution_count": 6,
      "outputs": [
        {
          "output_type": "stream",
          "name": "stdout",
          "text": [
            "apple\n",
            "banana\n",
            "cherry\n"
          ]
        }
      ]
    },
    {
      "cell_type": "code",
      "source": [
        "#Using a while loop\n",
        "#You can loop through the tuple item by using a while loop.\n",
        "#Remember to increase the index by 1 after each iteration.\n",
        "\n",
        "#Print all items, using a while loop to go through all the index numbers:\n",
        "\n",
        "Thistuple = (\"apple\", \"banana\", \"cherry\")\n",
        "i = 0\n",
        "while i < len(Thistuple):\n",
        "  print(Thistuple[i])\n",
        "  i = i + 1"
      ],
      "metadata": {
        "colab": {
          "base_uri": "https://localhost:8080/"
        },
        "id": "4AYqKGPIN3oU",
        "outputId": "aba8dfe9-0e90-43ca-8401-fa800f0f9d53"
      },
      "execution_count": 7,
      "outputs": [
        {
          "output_type": "stream",
          "name": "stdout",
          "text": [
            "apple\n",
            "banana\n",
            "cherry\n"
          ]
        }
      ]
    },
    {
      "cell_type": "code",
      "source": [
        "#- Joins Tuples\n",
        "#Join Two Tuples\n",
        "#To join two or more tuples you can use the + operator:"
      ],
      "metadata": {
        "id": "x9OQskxvqvEr"
      },
      "execution_count": 9,
      "outputs": []
    },
    {
      "cell_type": "code",
      "source": [
        "#Join Two Tuples:\n",
        "\n",
        "tuple1 = (\"a\", \"b\", \"c\")\n",
        "tuple2 = (1, 2, 3)\n",
        "\n",
        "tuple3 = tuple1 = tuple2\n",
        "print(tuple3)\n",
        "\n",
        "Tuple = (\"l\", \"s\", \"d\")\n",
        "Tuple1 = (\"sum\",\"sd\",1)\n",
        "Tuple2 = Tuple + Tuple1\n",
        "print(Tuple2)"
      ],
      "metadata": {
        "colab": {
          "base_uri": "https://localhost:8080/"
        },
        "id": "rX1iBWfwriCD",
        "outputId": "944becc1-9f06-4702-faf0-7d8c14277cd3"
      },
      "execution_count": 13,
      "outputs": [
        {
          "output_type": "stream",
          "name": "stdout",
          "text": [
            "(1, 2, 3)\n",
            "('l', 's', 'd', 'sum', 'sd', 1)\n"
          ]
        }
      ]
    },
    {
      "cell_type": "code",
      "source": [
        "#Multiply Tuples\n",
        "#If you want to multiply the content of a tuple a given number of times, you can use the * operator:\n",
        "\n",
        "#Example\n",
        "#Multiply the fruits tuple by 2:\n",
        "\n",
        "fruits = (\"apple\", \"banana\", \"cherry\")\n",
        "print(fruits)"
      ],
      "metadata": {
        "colab": {
          "base_uri": "https://localhost:8080/"
        },
        "id": "KHcLF0-Brl8-",
        "outputId": "549edfe3-8933-4403-e273-2640b4f42434"
      },
      "execution_count": 15,
      "outputs": [
        {
          "output_type": "stream",
          "name": "stdout",
          "text": [
            "('apple', 'banana', 'cherry')\n"
          ]
        }
      ]
    }
  ]
}