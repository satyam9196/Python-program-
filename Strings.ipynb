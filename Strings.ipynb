{
  "nbformat": 4,
  "nbformat_minor": 0,
  "metadata": {
    "colab": {
      "provenance": []
    },
    "kernelspec": {
      "name": "python3",
      "display_name": "Python 3"
    },
    "language_info": {
      "name": "python"
    }
  },
  "cells": [
    {
      "cell_type": "code",
      "execution_count": null,
      "metadata": {
        "colab": {
          "base_uri": "https://localhost:8080/"
        },
        "id": "qcZGJfyCUKid",
        "outputId": "02bfda8b-5de9-4d81-e86e-1df6fc01d75e"
      },
      "outputs": [
        {
          "output_type": "stream",
          "name": "stdout",
          "text": [
            "Hello AAFT\n"
          ]
        }
      ],
      "source": [
        "print(\"Hello AAFT\")"
      ]
    },
    {
      "cell_type": "code",
      "source": [
        "a='Hello,AAFT'\n",
        "print(a)"
      ],
      "metadata": {
        "colab": {
          "base_uri": "https://localhost:8080/"
        },
        "id": "NzIWK2Y8UPcC",
        "outputId": "239469bf-5478-45b0-f9ca-4f3506b31489"
      },
      "execution_count": null,
      "outputs": [
        {
          "output_type": "stream",
          "name": "stdout",
          "text": [
            "Hello,AAFT\n"
          ]
        }
      ]
    },
    {
      "cell_type": "code",
      "source": [
        "b=\"\"\" Himanshu is naughty boy.\n",
        "Yash is not saying anything.\n",
        "Gungun is not practicing Python.\"\"\""
      ],
      "metadata": {
        "id": "K8-ZyenrUTBW"
      },
      "execution_count": null,
      "outputs": []
    },
    {
      "cell_type": "code",
      "source": [
        "print(b)"
      ],
      "metadata": {
        "colab": {
          "base_uri": "https://localhost:8080/"
        },
        "id": "8obhZKmdUdcQ",
        "outputId": "235921f1-327a-491c-822f-3f602d4e57bd"
      },
      "execution_count": null,
      "outputs": [
        {
          "output_type": "stream",
          "name": "stdout",
          "text": [
            " Himanshu is naughty boy.\n",
            "Yash is not saying anything.\n",
            "Gungun is not practicing Python.\n"
          ]
        }
      ]
    },
    {
      "cell_type": "code",
      "source": [
        "print(a[1])"
      ],
      "metadata": {
        "colab": {
          "base_uri": "https://localhost:8080/"
        },
        "id": "7dfQaxpPUkhR",
        "outputId": "9af057b1-dab6-40cf-9cf6-e2d587d11c39"
      },
      "execution_count": null,
      "outputs": [
        {
          "output_type": "stream",
          "name": "stdout",
          "text": [
            "e\n"
          ]
        }
      ]
    },
    {
      "cell_type": "code",
      "source": [
        "s1= \"aaft aaft aaft sods\"\n",
        "x=s1.count(\"aaft\")\n",
        "print(x)"
      ],
      "metadata": {
        "colab": {
          "base_uri": "https://localhost:8080/"
        },
        "id": "0t8AP929UrEZ",
        "outputId": "0738699f-9673-439a-9d6e-071c4f0266de"
      },
      "execution_count": null,
      "outputs": [
        {
          "output_type": "stream",
          "name": "stdout",
          "text": [
            "3\n"
          ]
        }
      ]
    },
    {
      "cell_type": "code",
      "source": [
        "s1= \"aaft aaft aaft sods\"\n",
        "y=s1.find(\"sods\")\n",
        "print(y)"
      ],
      "metadata": {
        "colab": {
          "base_uri": "https://localhost:8080/"
        },
        "id": "LFKhjIGgUx8n",
        "outputId": "d700da57-9ae6-43f3-fad3-0b021efc42b3"
      },
      "execution_count": null,
      "outputs": [
        {
          "output_type": "stream",
          "name": "stdout",
          "text": [
            "15\n"
          ]
        }
      ]
    },
    {
      "cell_type": "code",
      "source": [
        "s1= \"aaft aaft aaft sods\"\n",
        "y=s1.find(\"soa\")\n",
        "print(y)"
      ],
      "metadata": {
        "colab": {
          "base_uri": "https://localhost:8080/"
        },
        "id": "fGptk2NEU1gW",
        "outputId": "8b4b3940-e05e-4da8-c587-65d8077efc07"
      },
      "execution_count": null,
      "outputs": [
        {
          "output_type": "stream",
          "name": "stdout",
          "text": [
            "-1\n"
          ]
        }
      ]
    },
    {
      "cell_type": "code",
      "source": [
        "s2=\"Python is case sensitive language\"\n",
        "z=s2.partition(\"case\")\n",
        "print(z)"
      ],
      "metadata": {
        "colab": {
          "base_uri": "https://localhost:8080/"
        },
        "id": "wR_wbOEhU4DA",
        "outputId": "c00b9f61-517d-4344-98fe-b49ef0c91403"
      },
      "execution_count": null,
      "outputs": [
        {
          "output_type": "stream",
          "name": "stdout",
          "text": [
            "('Python is ', 'case', ' sensitive language')\n"
          ]
        }
      ]
    },
    {
      "cell_type": "code",
      "source": [
        "s2=\"Python is case sensitive language\"\n",
        "z=s2.split()\n",
        "print(z)"
      ],
      "metadata": {
        "colab": {
          "base_uri": "https://localhost:8080/"
        },
        "id": "QshsFXFwU6rC",
        "outputId": "f82b8b07-8f1b-473d-ebab-c92a358509c4"
      },
      "execution_count": null,
      "outputs": [
        {
          "output_type": "stream",
          "name": "stdout",
          "text": [
            "['Python', 'is', 'case', 'sensitive', 'language']\n"
          ]
        }
      ]
    },
    {
      "cell_type": "code",
      "source": [
        "myTuple = (\"John\", \"Peter\", \"Vicky\")\n",
        "\n",
        "x = \",\".join(myTuple)\n",
        "\n",
        "print(x)"
      ],
      "metadata": {
        "colab": {
          "base_uri": "https://localhost:8080/"
        },
        "id": "1HokE_1QU9Ot",
        "outputId": "54e5292d-a353-435b-8128-606baa2e5c81"
      },
      "execution_count": null,
      "outputs": [
        {
          "output_type": "stream",
          "name": "stdout",
          "text": [
            "John,Peter,Vicky\n"
          ]
        }
      ]
    },
    {
      "cell_type": "code",
      "source": [],
      "metadata": {
        "id": "ntewznJJVAdR"
      },
      "execution_count": null,
      "outputs": []
    }
  ]
}