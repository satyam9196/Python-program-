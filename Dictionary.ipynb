{
  "nbformat": 4,
  "nbformat_minor": 0,
  "metadata": {
    "colab": {
      "provenance": []
    },
    "kernelspec": {
      "name": "python3",
      "display_name": "Python 3"
    },
    "language_info": {
      "name": "python"
    }
  },
  "cells": [
    {
      "cell_type": "code",
      "execution_count": null,
      "metadata": {
        "colab": {
          "base_uri": "https://localhost:8080/"
        },
        "id": "kkvKrfcxCLYu",
        "outputId": "290195bf-5503-4220-ebd9-5c4b739b4949"
      },
      "outputs": [
        {
          "output_type": "stream",
          "name": "stdout",
          "text": [
            "{'brand': 'BMW', 'model': 'iX', 'year': 1964}\n"
          ]
        }
      ],
      "source": [
        "car_dict={\"brand\":\"BMW\",\"model\":\"iX\",\"year\":1964}\n",
        "print(car_dict)"
      ]
    },
    {
      "cell_type": "code",
      "source": [
        "#Accessing Dictionary elements\n",
        "print(car_dict['brand'])"
      ],
      "metadata": {
        "colab": {
          "base_uri": "https://localhost:8080/"
        },
        "id": "811pmYapCw4a",
        "outputId": "8e593350-0603-4765-e6db-52be05b057a6"
      },
      "execution_count": null,
      "outputs": [
        {
          "output_type": "stream",
          "name": "stdout",
          "text": [
            "BMW\n"
          ]
        }
      ]
    },
    {
      "cell_type": "code",
      "source": [
        "# Length of Dictionary\n",
        "print(len(car_dict))"
      ],
      "metadata": {
        "colab": {
          "base_uri": "https://localhost:8080/"
        },
        "id": "SSDWalxMCztU",
        "outputId": "b75a02b6-dc9b-4330-8d2c-ad1b45cc7459"
      },
      "execution_count": null,
      "outputs": [
        {
          "output_type": "stream",
          "name": "stdout",
          "text": [
            "3\n"
          ]
        }
      ]
    },
    {
      "cell_type": "code",
      "source": [
        "# Type of Data\n",
        "print(type(car_dict))"
      ],
      "metadata": {
        "colab": {
          "base_uri": "https://localhost:8080/"
        },
        "id": "5fhzLq8mC2ac",
        "outputId": "6546882c-b6dd-4dbe-994b-2b00c45c3fd8"
      },
      "execution_count": null,
      "outputs": [
        {
          "output_type": "stream",
          "name": "stdout",
          "text": [
            "<class 'dict'>\n"
          ]
        }
      ]
    },
    {
      "cell_type": "code",
      "source": [
        "# For Duplicate keys\n",
        "car_dict2={\"brand\":\"BMW\",\"model\":\"iX\",\"year\":1964,\"year\":2000}"
      ],
      "metadata": {
        "id": "2gZfuofcC5DH"
      },
      "execution_count": null,
      "outputs": []
    },
    {
      "cell_type": "code",
      "source": [
        "car_dict2"
      ],
      "metadata": {
        "colab": {
          "base_uri": "https://localhost:8080/"
        },
        "id": "3yvwwGEzC7dK",
        "outputId": "a9f8ce1d-5e0e-4ae7-db8b-b2808f250f7b"
      },
      "execution_count": null,
      "outputs": [
        {
          "output_type": "execute_result",
          "data": {
            "text/plain": [
              "{'brand': 'BMW', 'model': 'iX', 'year': 2000}"
            ]
          },
          "metadata": {},
          "execution_count": 6
        }
      ]
    },
    {
      "cell_type": "code",
      "source": [
        "car_dict3={\"brand\":\"BMW\",\"model\":\"iX\",\"year\":2024,\"year\":2000}\n",
        "car_dict3"
      ],
      "metadata": {
        "colab": {
          "base_uri": "https://localhost:8080/"
        },
        "id": "6wvlj50sC_Zw",
        "outputId": "bd65a4fd-430e-4721-b7da-f2f7400ec5bc"
      },
      "execution_count": null,
      "outputs": [
        {
          "output_type": "execute_result",
          "data": {
            "text/plain": [
              "{'brand': 'BMW', 'model': 'iX', 'year': 2000}"
            ]
          },
          "metadata": {},
          "execution_count": 7
        }
      ]
    },
    {
      "cell_type": "code",
      "source": [
        "# For Accessing Dict items\n",
        "x=car_dict.get(\"model\")\n",
        "x"
      ],
      "metadata": {
        "colab": {
          "base_uri": "https://localhost:8080/",
          "height": 36
        },
        "id": "8U3MYNNvDIC4",
        "outputId": "b491d474-dbf1-4397-dfcf-37af8227f7dd"
      },
      "execution_count": null,
      "outputs": [
        {
          "output_type": "execute_result",
          "data": {
            "text/plain": [
              "'iX'"
            ],
            "application/vnd.google.colaboratory.intrinsic+json": {
              "type": "string"
            }
          },
          "metadata": {},
          "execution_count": 8
        }
      ]
    },
    {
      "cell_type": "code",
      "source": [
        "#The keys() method will return a list of all the keys in the dictionary.\n",
        "car_dict.keys()"
      ],
      "metadata": {
        "colab": {
          "base_uri": "https://localhost:8080/"
        },
        "id": "s0bfgDLEDNxa",
        "outputId": "711775ad-93f6-49ac-a48d-9308afe74b2a"
      },
      "execution_count": null,
      "outputs": [
        {
          "output_type": "execute_result",
          "data": {
            "text/plain": [
              "dict_keys(['brand', 'model', 'year'])"
            ]
          },
          "metadata": {},
          "execution_count": 9
        }
      ]
    },
    {
      "cell_type": "code",
      "source": [
        "#The values() method will return a list of all the values in the dictionary.\n",
        "\n",
        "car_dict.values()"
      ],
      "metadata": {
        "colab": {
          "base_uri": "https://localhost:8080/"
        },
        "id": "97GDarR7DQyn",
        "outputId": "1d7e49ff-5f42-4588-adf2-1cbb4ec14f77"
      },
      "execution_count": null,
      "outputs": [
        {
          "output_type": "execute_result",
          "data": {
            "text/plain": [
              "dict_values(['BMW', 'iX', 1964])"
            ]
          },
          "metadata": {},
          "execution_count": 10
        }
      ]
    },
    {
      "cell_type": "code",
      "source": [
        "# To change vlaues of Dictionary\n",
        "car_dict[\"year\"]=2024\n",
        "car_dict"
      ],
      "metadata": {
        "colab": {
          "base_uri": "https://localhost:8080/"
        },
        "id": "VysUfNVbDUb3",
        "outputId": "4c4e85ef-3aac-4ab9-f4f7-ee22d0142a7a"
      },
      "execution_count": null,
      "outputs": [
        {
          "output_type": "execute_result",
          "data": {
            "text/plain": [
              "{'brand': 'BMW', 'model': 'iX', 'year': 2024, 'color': 'White'}"
            ]
          },
          "metadata": {},
          "execution_count": 13
        }
      ]
    },
    {
      "cell_type": "code",
      "source": [
        "# To add new key:value in dictionary\n",
        "car_dict[\"color\"]=\"White\"\n",
        "car_dict"
      ],
      "metadata": {
        "colab": {
          "base_uri": "https://localhost:8080/"
        },
        "id": "BM_LXfqgDW-8",
        "outputId": "6d93f538-9c46-4535-9eb4-4a2bcc31900c"
      },
      "execution_count": null,
      "outputs": [
        {
          "output_type": "execute_result",
          "data": {
            "text/plain": [
              "{'brand': 'BMW', 'model': 'iX', 'year': 2024, 'color': 'White'}"
            ]
          },
          "metadata": {},
          "execution_count": 14
        }
      ]
    },
    {
      "cell_type": "code",
      "source": [
        "#The values in dictionary items can be of any data type\n",
        "d3={\"name\":\"A\",'year':2023,'Pass':True,'Marks':[50,60,70]}\n",
        "print(d3)"
      ],
      "metadata": {
        "colab": {
          "base_uri": "https://localhost:8080/"
        },
        "id": "0AiFPfV_Dacs",
        "outputId": "ee111b25-d455-41f3-e4bf-790486560a54"
      },
      "execution_count": null,
      "outputs": [
        {
          "output_type": "stream",
          "name": "stdout",
          "text": [
            "{'name': 'A', 'year': 2023, 'Pass': True, 'Marks': [50, 60, 70]}\n"
          ]
        }
      ]
    },
    {
      "cell_type": "code",
      "source": [
        "d3.update({'year':2024})\n",
        "d3['phone_no']=94566\n",
        "d3"
      ],
      "metadata": {
        "colab": {
          "base_uri": "https://localhost:8080/"
        },
        "id": "NqcT1_CfDo_8",
        "outputId": "5fc01bb6-a00b-4b65-f3f6-57d3f9c985d7"
      },
      "execution_count": null,
      "outputs": [
        {
          "output_type": "execute_result",
          "data": {
            "text/plain": [
              "{'name': 'A',\n",
              " 'year': 2024,\n",
              " 'Pass': True,\n",
              " 'Marks': [50, 60, 70],\n",
              " 'phone_no': 94566}"
            ]
          },
          "metadata": {},
          "execution_count": 16
        }
      ]
    },
    {
      "cell_type": "code",
      "source": [
        "d3.update({'email':'asdf@gmail.com'})\n",
        "d3"
      ],
      "metadata": {
        "colab": {
          "base_uri": "https://localhost:8080/"
        },
        "id": "6srfUlAIDxkx",
        "outputId": "41ad40e7-6daa-44cd-f1ce-2f75794dcf98"
      },
      "execution_count": null,
      "outputs": [
        {
          "output_type": "execute_result",
          "data": {
            "text/plain": [
              "{'name': 'A',\n",
              " 'year': 2024,\n",
              " 'Pass': True,\n",
              " 'Marks': [50, 60, 70],\n",
              " 'phone_no': 94566,\n",
              " 'email': 'asdf@gmail.com'}"
            ]
          },
          "metadata": {},
          "execution_count": 17
        }
      ]
    },
    {
      "cell_type": "code",
      "source": [
        "# For Removing Dictionary items\n",
        "#The pop() method removes the item with the specified key name:\n",
        "\n",
        "d3.pop('phone_no')\n",
        "d3"
      ],
      "metadata": {
        "colab": {
          "base_uri": "https://localhost:8080/"
        },
        "id": "H_H7LmAeD3bf",
        "outputId": "ab86d10b-1d06-4a25-ae90-886e415d2463"
      },
      "execution_count": null,
      "outputs": [
        {
          "output_type": "execute_result",
          "data": {
            "text/plain": [
              "{'name': 'A',\n",
              " 'year': 2024,\n",
              " 'Pass': True,\n",
              " 'Marks': [50, 60, 70],\n",
              " 'email': 'asdf@gmail.com'}"
            ]
          },
          "metadata": {},
          "execution_count": 18
        }
      ]
    },
    {
      "cell_type": "code",
      "source": [
        "#The popitem() method removes the last inserted item\n",
        "d3.popitem()\n",
        "d3"
      ],
      "metadata": {
        "colab": {
          "base_uri": "https://localhost:8080/"
        },
        "id": "XKQpEs3MD-zz",
        "outputId": "6a237960-7f47-41d2-fde8-dd2823b0e212"
      },
      "execution_count": null,
      "outputs": [
        {
          "output_type": "execute_result",
          "data": {
            "text/plain": [
              "{'name': 'A', 'year': 2024, 'Pass': True}"
            ]
          },
          "metadata": {},
          "execution_count": 20
        }
      ]
    },
    {
      "cell_type": "code",
      "source": [],
      "metadata": {
        "id": "RJnaoYQTE8xi"
      },
      "execution_count": null,
      "outputs": []
    }
  ]
}