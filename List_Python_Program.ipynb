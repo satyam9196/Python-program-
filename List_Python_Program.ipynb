{
  "nbformat": 4,
  "nbformat_minor": 0,
  "metadata": {
    "colab": {
      "provenance": []
    },
    "kernelspec": {
      "name": "python3",
      "display_name": "Python 3"
    },
    "language_info": {
      "name": "python"
    }
  },
  "cells": [
    {
      "cell_type": "code",
      "execution_count": null,
      "metadata": {
        "colab": {
          "base_uri": "https://localhost:8080/"
        },
        "id": "4gML78zJc28S",
        "outputId": "c4a5a793-0f2a-4f77-954d-c8e8e5067e2e"
      },
      "outputs": [
        {
          "output_type": "stream",
          "name": "stdout",
          "text": [
            "[5, 2, 3, 4, 1]\n"
          ]
        }
      ],
      "source": [
        "# Q1. Program to interchange first and last element in list\n",
        "l1= [1, 2, 3, 4, 5]\n",
        "l1[0], l1[-1] = l1[-1], l1[0]\n",
        "print(l1)"
      ]
    },
    {
      "cell_type": "code",
      "source": [
        "# Q2. Program to swap two element in a list\n",
        "l1 = [1, 2, 3, 4, 5]\n",
        "l1[1], l1[2] = l1[2], l1[1]\n",
        "print(l1)"
      ],
      "metadata": {
        "colab": {
          "base_uri": "https://localhost:8080/"
        },
        "id": "QhrnvQogc_xO",
        "outputId": "fa08efa9-c70b-430f-cb89-116d8990a9ee"
      },
      "execution_count": null,
      "outputs": [
        {
          "output_type": "stream",
          "name": "stdout",
          "text": [
            "[1, 3, 2, 4, 5]\n"
          ]
        }
      ]
    },
    {
      "cell_type": "code",
      "source": [
        "# Q3. swap elemets in string list\n",
        "l1 = [\"apple\", \"banana\", \"cherry\"]\n",
        "l1[0], l1[1] = l1[1], l1[0]\n",
        "print(l1)"
      ],
      "metadata": {
        "colab": {
          "base_uri": "https://localhost:8080/"
        },
        "id": "P1PoENJCdDpr",
        "outputId": "8fad113e-18cc-4e7c-f27e-1206d88366b1"
      },
      "execution_count": null,
      "outputs": [
        {
          "output_type": "stream",
          "name": "stdout",
          "text": [
            "['banana', 'apple', 'cherry']\n"
          ]
        }
      ]
    },
    {
      "cell_type": "code",
      "source": [
        "# Q4. Ways to find length of list\n",
        "# Way 1\n",
        "l1 = [1, 2, 3, 4, 5]\n",
        "length = len(l1)\n",
        "print(length)\n",
        "# Way 2\n",
        "l1 = [1, 2, 3, 4, 5]\n",
        "count = 0\n",
        "for _ in l1:\n",
        "    count += 1\n",
        "print(count)\n",
        "# Way 3\n",
        "l1= [1, 2, 3, 4, 5]\n",
        "length = sum(1 for _ in l1)\n",
        "print(length)\n",
        "# Way 4\n",
        "l1= [1, 2, 3, 4, 5]\n",
        "length = 0\n",
        "for _ in l1:\n",
        "    length += 1\n",
        "print(length)\n"
      ],
      "metadata": {
        "colab": {
          "base_uri": "https://localhost:8080/"
        },
        "id": "PDlTIzkWdIdz",
        "outputId": "c5105566-935e-494a-829c-a4dabe503a44"
      },
      "execution_count": null,
      "outputs": [
        {
          "output_type": "stream",
          "name": "stdout",
          "text": [
            "5\n",
            "5\n",
            "5\n",
            "5\n"
          ]
        }
      ]
    },
    {
      "cell_type": "code",
      "source": [
        "# Q5. Maximum of two numbers\n",
        "num1 = 10\n",
        "num2 = 5\n",
        "max_num = max(num1, num2)\n",
        "print(max_num)"
      ],
      "metadata": {
        "colab": {
          "base_uri": "https://localhost:8080/"
        },
        "id": "3sgPihIJdPI0",
        "outputId": "0bd15b8c-bb5f-4055-9d87-eff4a51997ff"
      },
      "execution_count": null,
      "outputs": [
        {
          "output_type": "stream",
          "name": "stdout",
          "text": [
            "10\n"
          ]
        }
      ]
    },
    {
      "cell_type": "code",
      "source": [
        "# Q7.ways to check if element exists in list\n",
        "l1 = [1, 2, 3, 4, 5]\n",
        "l1.count(3)\n",
        "# Way 2\n",
        "if 3 in l1:\n",
        "    print(\"Element exists in the list\")\n",
        "else:\n",
        "    print(\"Element does not exist in the list\")\n"
      ],
      "metadata": {
        "colab": {
          "base_uri": "https://localhost:8080/"
        },
        "id": "U-zCT0yDdVal",
        "outputId": "47749a7a-7ed8-44ee-b8e0-3233392bd1f6"
      },
      "execution_count": null,
      "outputs": [
        {
          "output_type": "stream",
          "name": "stdout",
          "text": [
            "Element exists in the list\n"
          ]
        }
      ]
    },
    {
      "cell_type": "code",
      "source": [],
      "metadata": {
        "id": "b2lcHv-sdWok"
      },
      "execution_count": null,
      "outputs": []
    },
    {
      "cell_type": "code",
      "source": [
        "# Q9. Reversing a list\n",
        "l1 = [1, 2, 3, 4, 5]\n",
        "# Way 1\n",
        "l1.reverse()\n",
        "print(l1)\n",
        "# Way 2\n",
        "l1.sort(reverse=True)\n",
        "print(l1)"
      ],
      "metadata": {
        "colab": {
          "base_uri": "https://localhost:8080/"
        },
        "id": "RTmqzakTdcw2",
        "outputId": "467ccb5a-e118-4934-e435-46cce0338abd"
      },
      "execution_count": null,
      "outputs": [
        {
          "output_type": "stream",
          "name": "stdout",
          "text": [
            "[5, 4, 3, 2, 1]\n",
            "[5, 4, 3, 2, 1]\n"
          ]
        }
      ]
    },
    {
      "cell_type": "code",
      "source": [
        "# Q10. cloning or copying a list\n",
        "l1 = [1, 2, 3, 4, 5]\n",
        "# Way 1\n",
        "l1= l1.copy()\n",
        "print(l1)\n",
        "# Way 2\n",
        "new_l1 = l1[:]\n",
        "print(new_l1)\n",
        "# Way 3\n",
        "new_l1 = list(l1)\n",
        "print(new_l1)"
      ],
      "metadata": {
        "colab": {
          "base_uri": "https://localhost:8080/"
        },
        "id": "j4v98lR9deO0",
        "outputId": "7cac45a6-3dc9-42c5-a626-566580a49664"
      },
      "execution_count": null,
      "outputs": [
        {
          "output_type": "stream",
          "name": "stdout",
          "text": [
            "[1, 2, 3, 4, 5]\n",
            "[1, 2, 3, 4, 5]\n",
            "[1, 2, 3, 4, 5]\n"
          ]
        }
      ]
    },
    {
      "cell_type": "code",
      "source": [
        "# Q11. count occurences of an element in a list\n",
        "l1 = [1, 2, 3, 4, 5]\n",
        "l1.count(3)"
      ],
      "metadata": {
        "colab": {
          "base_uri": "https://localhost:8080/"
        },
        "id": "WKNfx_k6dg7F",
        "outputId": "88d5579f-cc28-4208-cd71-d91cb48f03a2"
      },
      "execution_count": null,
      "outputs": [
        {
          "output_type": "execute_result",
          "data": {
            "text/plain": [
              "1"
            ]
          },
          "metadata": {},
          "execution_count": 9
        }
      ]
    },
    {
      "cell_type": "code",
      "source": [
        "# Q12. Program to find sum and average of a list in python\n",
        "l1 = [1, 2, 3, 4, 5]\n",
        "sum = l1[0] + l1[1] + l1[2] + l1[3] + l1[4]\n",
        "average = sum / len(l1)\n",
        "print(sum)\n",
        "print(average)\n"
      ],
      "metadata": {
        "colab": {
          "base_uri": "https://localhost:8080/"
        },
        "id": "jlevXD_bdlwk",
        "outputId": "36008e8c-8343-4dc0-f66c-1449237ed47a"
      },
      "execution_count": null,
      "outputs": [
        {
          "output_type": "stream",
          "name": "stdout",
          "text": [
            "15\n",
            "3.0\n"
          ]
        }
      ]
    },
    {
      "cell_type": "code",
      "source": [],
      "metadata": {
        "id": "SUX1WpMudm0l"
      },
      "execution_count": null,
      "outputs": []
    },
    {
      "cell_type": "code",
      "source": [
        "# Q14. Multiply all numbers in list\n",
        "l1=[1,2,3,4,5]\n",
        "x=l1[0]*l1[1]*l1[2]*l1[3]*l1[4]\n",
        "print(x)"
      ],
      "metadata": {
        "colab": {
          "base_uri": "https://localhost:8080/"
        },
        "id": "RNeBRiFNdqV8",
        "outputId": "6c5d3f45-423b-47c4-b31a-b763dd17c859"
      },
      "execution_count": null,
      "outputs": [
        {
          "output_type": "stream",
          "name": "stdout",
          "text": [
            "120\n"
          ]
        }
      ]
    },
    {
      "cell_type": "code",
      "source": [
        "# Q15. program to find smallest number in list\n",
        "# Way 1\n",
        "l1=[1,2,3,4,5]\n",
        "x=min(l1)\n",
        "print(x)\n",
        "# Way 2\n",
        "y=sorted(l1)\n",
        "print(y[0])"
      ],
      "metadata": {
        "colab": {
          "base_uri": "https://localhost:8080/"
        },
        "id": "2HZrjXqjdt5M",
        "outputId": "d6d28ba8-1b5b-4042-f836-a5f522bbc0d7"
      },
      "execution_count": null,
      "outputs": [
        {
          "output_type": "stream",
          "name": "stdout",
          "text": [
            "1\n",
            "1\n"
          ]
        }
      ]
    },
    {
      "cell_type": "code",
      "source": [
        "# Q16.program to find largest number in list\n",
        "# Way 1\n",
        "l1=[1,2,3,4,5]\n",
        "x=max(l1)\n",
        "print(x)\n",
        "# Way 2\n",
        "y=sorted(l1)\n",
        "print(y[-1])"
      ],
      "metadata": {
        "colab": {
          "base_uri": "https://localhost:8080/"
        },
        "id": "9Fs1ouW0dwmK",
        "outputId": "9ffdf252-eccc-48fe-82b8-5e50f6325eb6"
      },
      "execution_count": null,
      "outputs": [
        {
          "output_type": "stream",
          "name": "stdout",
          "text": [
            "5\n",
            "5\n"
          ]
        }
      ]
    },
    {
      "cell_type": "code",
      "source": [
        "# Q17. program to find second largest number in list\n",
        "l1=[1,2,3,4,5]\n",
        "l1.sort()\n",
        "print(l1[-2])"
      ],
      "metadata": {
        "colab": {
          "base_uri": "https://localhost:8080/"
        },
        "id": "8vjPYpnve7V4",
        "outputId": "64b55922-31db-4adb-a47c-8d803b8083d8"
      },
      "execution_count": null,
      "outputs": [
        {
          "output_type": "stream",
          "name": "stdout",
          "text": [
            "4\n"
          ]
        }
      ]
    },
    {
      "cell_type": "code",
      "source": [
        "# Q18. program to print even numbers in list\n",
        "l1=[1,2,3,4,5]\n",
        "for i in l1:\n",
        "    if i%2==0:\n",
        "        print(i)\n"
      ],
      "metadata": {
        "colab": {
          "base_uri": "https://localhost:8080/"
        },
        "id": "bEcVMTcIfTdn",
        "outputId": "20ae0ca6-fdd2-4967-e9be-80d01053d0c7"
      },
      "execution_count": null,
      "outputs": [
        {
          "output_type": "stream",
          "name": "stdout",
          "text": [
            "2\n",
            "4\n"
          ]
        }
      ]
    },
    {
      "cell_type": "code",
      "source": [
        "# Q19. program to print odd numbers in list\n",
        "l1=[1,2,3,4,5]\n",
        "for i in l1:\n",
        "    if i%2!=0:\n",
        "        print(i)"
      ],
      "metadata": {
        "colab": {
          "base_uri": "https://localhost:8080/"
        },
        "id": "2akxACS1faCb",
        "outputId": "9f8f6536-e1aa-4fc0-d6ab-d47c8c3b7bad"
      },
      "execution_count": null,
      "outputs": [
        {
          "output_type": "stream",
          "name": "stdout",
          "text": [
            "1\n",
            "3\n",
            "5\n"
          ]
        }
      ]
    },
    {
      "cell_type": "code",
      "source": [
        "# Q20. program to print all even numbers in a range\n",
        "for i in range(1,10):\n",
        "    if i%2==0:\n",
        "        print(i)"
      ],
      "metadata": {
        "colab": {
          "base_uri": "https://localhost:8080/"
        },
        "id": "Vu7P9YHyffe2",
        "outputId": "33bb67fd-2ab0-4121-f080-4c56641091e2"
      },
      "execution_count": null,
      "outputs": [
        {
          "output_type": "stream",
          "name": "stdout",
          "text": [
            "2\n",
            "4\n",
            "6\n",
            "8\n"
          ]
        }
      ]
    },
    {
      "cell_type": "code",
      "source": [
        "# Q21. program to print all add numbers in a range\n",
        "for i in range(1,10):\n",
        "    if i%2!=0:\n",
        "        print(i)"
      ],
      "metadata": {
        "colab": {
          "base_uri": "https://localhost:8080/"
        },
        "id": "qa4hGr-Pfk3h",
        "outputId": "b2faec9d-3a27-447d-e01e-0468cb00b526"
      },
      "execution_count": null,
      "outputs": [
        {
          "output_type": "stream",
          "name": "stdout",
          "text": [
            "1\n",
            "3\n",
            "5\n",
            "7\n",
            "9\n"
          ]
        }
      ]
    },
    {
      "cell_type": "code",
      "source": [
        "# Q22. program to count even and odd numbers in a list\n",
        "l1=[1,2,3,4,5]\n",
        "even=0\n",
        "odd=0\n",
        "for i in l1:\n",
        "    if i%2==0:\n",
        "        even+=1\n",
        "    else:\n",
        "        odd+=1\n",
        "print(even)\n",
        "print(odd)\n"
      ],
      "metadata": {
        "colab": {
          "base_uri": "https://localhost:8080/"
        },
        "id": "wNwtQHHQfoOH",
        "outputId": "42f96662-9244-4c67-e9aa-8f86d3eabfe6"
      },
      "execution_count": null,
      "outputs": [
        {
          "output_type": "stream",
          "name": "stdout",
          "text": [
            "2\n",
            "3\n"
          ]
        }
      ]
    },
    {
      "cell_type": "code",
      "source": [
        "# Q23.program to print positive numbers in list\n",
        "l1=[1,2,3,4,5]\n",
        "for i in l1:\n",
        "    if i>0:\n",
        "        print(i)"
      ],
      "metadata": {
        "colab": {
          "base_uri": "https://localhost:8080/"
        },
        "id": "gbHFVlHLfsdP",
        "outputId": "b2009c6d-7b64-48a3-8846-390b40e58813"
      },
      "execution_count": null,
      "outputs": [
        {
          "output_type": "stream",
          "name": "stdout",
          "text": [
            "1\n",
            "2\n",
            "3\n",
            "4\n",
            "5\n"
          ]
        }
      ]
    },
    {
      "cell_type": "code",
      "source": [
        "# Q24.program to print negative numbers in list\n",
        "l1=[1,2,3,4,5]\n",
        "for i in l1:\n",
        "    if i<0:\n",
        "        print(i)"
      ],
      "metadata": {
        "id": "Flhne4d9fxFY"
      },
      "execution_count": null,
      "outputs": []
    },
    {
      "cell_type": "code",
      "source": [
        "# Q25. program to print all positive numbers in a range\n",
        "for i in range(1,10):\n",
        "    if i>0:\n",
        "        print(i)"
      ],
      "metadata": {
        "colab": {
          "base_uri": "https://localhost:8080/"
        },
        "id": "DEqxoQqOf9Jv",
        "outputId": "9b8d81ce-0bbf-471c-960e-c21e2c01a02c"
      },
      "execution_count": null,
      "outputs": [
        {
          "output_type": "stream",
          "name": "stdout",
          "text": [
            "1\n",
            "2\n",
            "3\n",
            "4\n",
            "5\n",
            "6\n",
            "7\n",
            "8\n",
            "9\n"
          ]
        }
      ]
    },
    {
      "cell_type": "code",
      "source": [
        "# Q26. program to print all nagative numbers in a range\n",
        "for i in range(1,10):\n",
        "    if i<0:\n",
        "        print(i)"
      ],
      "metadata": {
        "id": "WbchxEe6f-kR"
      },
      "execution_count": null,
      "outputs": []
    },
    {
      "cell_type": "code",
      "source": [
        "# Q27. program to count positive and negative numbers in a list\n",
        "l1=[1,2,3,4,5]\n",
        "positive=0\n",
        "negative=0\n",
        "for i in l1:\n",
        "    if i>0:\n",
        "        positive+=1\n",
        "    else:\n",
        "        negative+=1\n",
        "print(positive)\n",
        "print(negative)\n"
      ],
      "metadata": {
        "colab": {
          "base_uri": "https://localhost:8080/"
        },
        "id": "Y7-KlPp7gFXl",
        "outputId": "5208d490-0bd3-4f90-f720-75244d075e92"
      },
      "execution_count": null,
      "outputs": [
        {
          "output_type": "stream",
          "name": "stdout",
          "text": [
            "5\n",
            "0\n"
          ]
        }
      ]
    },
    {
      "cell_type": "code",
      "source": [
        "# Q28. remove multiple elements from a list\n",
        "l1 = [1, 2, 3, 4, 3,1]\n",
        "for i in l1:\n",
        "    if l1.count(i)>1:\n",
        "        l1.remove(i)\n",
        "print(l1)"
      ],
      "metadata": {
        "colab": {
          "base_uri": "https://localhost:8080/"
        },
        "id": "tyr23AjigQsE",
        "outputId": "a05a0f7d-8dd3-4220-e08a-a807ac6310f5"
      },
      "execution_count": null,
      "outputs": [
        {
          "output_type": "stream",
          "name": "stdout",
          "text": [
            "[2, 4, 3, 1]\n"
          ]
        }
      ]
    },
    {
      "cell_type": "code",
      "source": [
        "# Q29. remove empty tuples from a list\n",
        "# Way 1\n",
        "l1 = [(1, 2), (), (3, 4), (), (5, 6)]\n",
        "l1 = [t for t in l1 if t]\n",
        "print(l1)\n",
        "# Way 2\n",
        "l1 = [(1, 2), (), (3, 4), (), (5, 6)]\n",
        "l1 = list(filter(None, l1))\n",
        "print(l1)\n",
        "# Way 3\n",
        "l1 = [(1, 2), (), (3, 4), (), (5, 6)]\n",
        "l1 = [t for t in l1 if t != ()]\n",
        "print(l1)\n"
      ],
      "metadata": {
        "colab": {
          "base_uri": "https://localhost:8080/"
        },
        "id": "TKEVk-_WgSHM",
        "outputId": "2ff22f18-174d-47c6-bf55-b63ca4af13cb"
      },
      "execution_count": null,
      "outputs": [
        {
          "output_type": "stream",
          "name": "stdout",
          "text": [
            "[(1, 2), (3, 4), (5, 6)]\n",
            "[(1, 2), (3, 4), (5, 6)]\n",
            "[(1, 2), (3, 4), (5, 6)]\n"
          ]
        }
      ]
    },
    {
      "cell_type": "code",
      "source": [
        "# Q30. print duplicates from a list of integers\n",
        "l1=[1,1,2,2,3,4,4,3,5,5,6]\n",
        "for i in l1:\n",
        "    if l1.count(i)>1:\n",
        "        print(i)\n",
        "# Way 2\n",
        "l1=[1,1,2,2,3,4,4,3,5,5,6]\n",
        "l2=[]\n",
        "for i in l1:\n",
        "    if i not in l2:\n",
        "        l2.append(i)\n",
        "    else:\n",
        "        print(i)\n"
      ],
      "metadata": {
        "colab": {
          "base_uri": "https://localhost:8080/"
        },
        "id": "ozG_JgfDgZGP",
        "outputId": "dfd745f7-f03c-4412-c680-8fe5865845ae"
      },
      "execution_count": null,
      "outputs": [
        {
          "output_type": "stream",
          "name": "stdout",
          "text": [
            "1\n",
            "1\n",
            "2\n",
            "2\n",
            "3\n",
            "4\n",
            "4\n",
            "3\n",
            "5\n",
            "5\n",
            "1\n",
            "2\n",
            "4\n",
            "3\n",
            "5\n"
          ]
        }
      ]
    }
  ]
}